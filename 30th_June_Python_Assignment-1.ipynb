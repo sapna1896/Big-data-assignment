{
 "cells": [
  {
   "cell_type": "markdown",
   "id": "886321ca",
   "metadata": {},
   "source": [
    "## 1.Write a Python program to check if a given string is an anagram."
   ]
  },
  {
   "cell_type": "code",
   "execution_count": 4,
   "id": "552e7a6e",
   "metadata": {},
   "outputs": [
    {
     "name": "stdout",
     "output_type": "stream",
     "text": [
      "Please enter your first string:-sapna\n",
      "Please enter your second string:-nsapa\n",
      "The given strings are an anagram.\n"
     ]
    }
   ],
   "source": [
    "def check_anagram(str1,str2):\n",
    "    if len(str1) == 0 or len(str2) == 0:\n",
    "        print(\"You have not entered one of the string, please try again with the correct input.\")\n",
    "    elif sorted(str1.upper()) == sorted(str2.upper()):\n",
    "        print('The given strings are an anagram.')\n",
    "    else:\n",
    "        print('The given strings are not an anagram.')\n",
    "string1 = input('Please enter your first string:-')\n",
    "string2 = input('Please enter your second string:-')\n",
    "try:\n",
    "    check_anagram(string1,string2)\n",
    "except:\n",
    "    print(\"Not able to check, please try again.\")"
   ]
  },
  {
   "cell_type": "markdown",
   "id": "f9f78857",
   "metadata": {},
   "source": [
    "## 2.Write a Python program to find the maximum and minimum values in a dictionary."
   ]
  },
  {
   "cell_type": "code",
   "execution_count": 45,
   "id": "553a5736",
   "metadata": {},
   "outputs": [
    {
     "name": "stdout",
     "output_type": "stream",
     "text": [
      "Please enter any integer value for the length of dictionary.4\n",
      " Enter the name of student:-Sapna\n",
      "Enter the marks:-33\n",
      " Enter the name of student:-Nikita\n",
      "Enter the marks:-23\n",
      " Enter the name of student:-Alka\n",
      "Enter the marks:-71\n",
      " Enter the name of student:-Aman\n",
      "Enter the marks:-34\n",
      "Maximum value of the dictionary is 71 and its exist for Alka.\n",
      "Minimum value of the dictionary is 23 and its exist for Nikita.\n"
     ]
    }
   ],
   "source": [
    "try:\n",
    "    dictionary_range = int(input(\"Please enter any integer value for the length of dictionary.\"))\n",
    "    dictionary = {}\n",
    "    for i in range(dictionary_range):\n",
    "        name = input(\" Enter the name of student:-\")\n",
    "        marks = input(\"Enter the marks:-\")\n",
    "        dictionary[name] = marks\n",
    "    maximum_value = max(dictionary.values())\n",
    "    minimum_value = min(dictionary.values())\n",
    "    maximum_value_key = [i for i in dictionary.keys() if dictionary[i]== maximum_value ]\n",
    "    mimimum_value_key = [i for i in dictionary.keys() if dictionary[i]== minimum_value ]\n",
    "    maximum_value_key = ','.join(maximum_value_key) \n",
    "    mimimum_value_key = ','.join(mimimum_value_key)  \n",
    "    print(f'Maximum value of the dictionary is {maximum_value} and its exist for {maximum_value_key}.')\n",
    "    print(f'Minimum value of the dictionary is {minimum_value} and its exist for {mimimum_value_key }.')\n",
    "except:\n",
    "    print('There is some issue, please try again.')"
   ]
  },
  {
   "cell_type": "markdown",
   "id": "915e490e",
   "metadata": {},
   "source": [
    "## 3.Write a Python program to find the average of a list of numbers."
   ]
  },
  {
   "cell_type": "code",
   "execution_count": 2,
   "id": "757f0216",
   "metadata": {},
   "outputs": [
    {
     "name": "stdout",
     "output_type": "stream",
     "text": [
      "Please enter the length of the list:-6\n",
      "Please enter 0 position number:-23\n",
      "Please enter 1 position number:-47\n",
      "Please enter 2 position number:-53\n",
      "Please enter 3 position number:-89\n",
      "Please enter 4 position number:-71\n",
      "Please enter 5 position number:-61\n",
      "Average of the given list of numbers is 57.33.\n"
     ]
    }
   ],
   "source": [
    "try:\n",
    "    length_of_list = int(input(\"Please enter the length of the list:-\"))\n",
    "    list = []\n",
    "    for i in range(length_of_list):\n",
    "        num = float(input(f\"Please enter {i} position number:-\"))\n",
    "        list.append(num)\n",
    "    print(f'Average of the given list of numbers is {round(sum(list)/len(list),2)}.')\n",
    "except:\n",
    "    print('There is some issue, please try again.')"
   ]
  },
  {
   "cell_type": "markdown",
   "id": "8032a3cc",
   "metadata": {},
   "source": [
    "## 4.Write a Python program to remove all vowels from a string."
   ]
  },
  {
   "cell_type": "code",
   "execution_count": 3,
   "id": "de04878e",
   "metadata": {},
   "outputs": [
    {
     "name": "stdout",
     "output_type": "stream",
     "text": [
      "Please enter any string from you want to remove the vowels:-I am very good person.\n",
      "Please find the string after removing the vowels:  m vry gd prsn.\n"
     ]
    }
   ],
   "source": [
    "try:\n",
    "    string = input('Please enter any string from you want to remove the vowels:-')\n",
    "    if string.isnumeric():\n",
    "        print(\"Not a string, please type a string to proceed.\")\n",
    "    else:\n",
    "        list = [i for i in string if i.lower() not in ('a','e','i','o','u')]\n",
    "        print(f\"Please find the string after removing the vowels: {''.join(list)}\")\n",
    "except:\n",
    "    print('There is some issue, please try again.')"
   ]
  },
  {
   "cell_type": "markdown",
   "id": "523e687d",
   "metadata": {},
   "source": [
    "## 5.Write a Python function to calculate the factorial of a number using recursion."
   ]
  },
  {
   "cell_type": "code",
   "execution_count": 23,
   "id": "287969b3",
   "metadata": {},
   "outputs": [
    {
     "name": "stdout",
     "output_type": "stream",
     "text": [
      "Enter the number to find the factorial:-11\n",
      "Given no. factorial is 39916800.\n"
     ]
    }
   ],
   "source": [
    "def factorial(number):\n",
    "    if number < 0:\n",
    "        return number\n",
    "    elif number== 0 or number == 1:\n",
    "        return 1\n",
    "    else:\n",
    "        return (number * factorial(number-1))\n",
    "number = int(input(\"Enter the number to find the factorial:-\"))\n",
    "try:\n",
    "    if factorial(number) <0:\n",
    "        print(\"You have enterend negative number, to find factorial please enter postive number.\")\n",
    "    else:\n",
    "        print(f\"Given no. factorial is {factorial(number)}.\")\n",
    "except:\n",
    "    print('There is some issue, please try again.')"
   ]
  },
  {
   "cell_type": "markdown",
   "id": "779e2a33",
   "metadata": {},
   "source": [
    "## 6.Write a Python program to merge two unsorted lists into a single sorted list usig the merge sort algorithm."
   ]
  },
  {
   "cell_type": "code",
   "execution_count": 10,
   "id": "dcc7fe18",
   "metadata": {},
   "outputs": [
    {
     "name": "stdout",
     "output_type": "stream",
     "text": [
      "Please enter the length of the 1st list:-5\n",
      "Please enter the length of the 2nd list:-4\n",
      "Please enter 1st list's 0 position number:-21.6\n",
      "Please enter 1st list's 1 position number:-65.2\n",
      "Please enter 1st list's 2 position number:-15.8\n",
      "Please enter 1st list's 3 position number:-34.9\n",
      "Please enter 1st list's 4 position number:-24.1\n",
      "Please enter 2nd list's 0 position number:-27.9\n",
      "Please enter 2nd list's 1 position number:-54.1\n",
      "Please enter 2nd list's 2 position number:-86.1\n",
      "Please enter 2nd list's 3 position number:-91.1\n",
      "Sorted final list are [15.8, 21.6, 24.1, 27.9, 34.9, 54.1, 65.2, 86.1, 91.1]\n"
     ]
    }
   ],
   "source": [
    "def list_sorting(list1,list2):\n",
    "    final_list = list1 + list2\n",
    "    final_list.sort()\n",
    "    return(final_list)\n",
    "try:\n",
    "    length_of_list1 = int(input(\"Please enter the length of the 1st list:-\"))\n",
    "    length_of_list2 = int(input(\"Please enter the length of the 2nd list:-\"))\n",
    "    list1,list2 = [],[]\n",
    "    for i in range(int(length_of_list1)):\n",
    "        num = float(input(f\"Please enter 1st list's {i} position number:-\"))\n",
    "        list1.append(num)\n",
    "    for i in range(int(length_of_list2)):\n",
    "        num = float(input(f\"Please enter 2nd list's {i} position number:-\"))\n",
    "        list2.append(num)\n",
    "    sorted_list = list_sorting(list1,list2)\n",
    "    print(f'Sorted final list are {sorted_list}')\n",
    "except:\n",
    "    print('There is some issue, please try again.') "
   ]
  },
  {
   "cell_type": "markdown",
   "id": "c2f27522",
   "metadata": {},
   "source": [
    "### 7.Write a Python program to find the GCD (Greatest Common Divisor) of two numbers.\n"
   ]
  },
  {
   "cell_type": "code",
   "execution_count": 11,
   "id": "13946b6e",
   "metadata": {},
   "outputs": [
    {
     "name": "stdout",
     "output_type": "stream",
     "text": [
      "Enter no. 1 to find the GCD:-60\n",
      "Enter no. 2 to find the GCD:-140\n",
      " GCD of these two numbers is:- 20\n"
     ]
    }
   ],
   "source": [
    "import math\n",
    "try:\n",
    "    number1 = int(input(\"Enter no. 1 to find the GCD:-\"))\n",
    "    number2 = int(input(\"Enter no. 2 to find the GCD:-\"))  \n",
    "    print(f\" GCD of these two numbers is:- {math.gcd(number1,number2)}\")\n",
    "except:\n",
    "    print('There is some issue, please try again.') "
   ]
  },
  {
   "cell_type": "markdown",
   "id": "f475abaf",
   "metadata": {},
   "source": [
    "## 8.Write a Python program to find the second-largest element in a list."
   ]
  },
  {
   "cell_type": "code",
   "execution_count": 56,
   "id": "56100fc0",
   "metadata": {},
   "outputs": [
    {
     "name": "stdout",
     "output_type": "stream",
     "text": [
      "Enter the length of elements in list:-5\n",
      "Please enter the 0th element of list.23\n",
      "Please enter the 1th element of list.45\n",
      "Please enter the 2th element of list.67\n",
      "Please enter the 3th element of list.89\n",
      "Please enter the 4th element of list.56\n",
      "The given list is [23, 45, 67, 89, 56] and second largest number of given list is 67.\n"
     ]
    }
   ],
   "source": [
    "def second_largest(list):\n",
    "    list1 = list.copy()\n",
    "    list1.remove(max(list1))\n",
    "    return max(list1) \n",
    "try:\n",
    "    list=[]\n",
    "    enter_the_length_of_list = int(input(\"Enter the length of elements in list:-\"))\n",
    "    if enter_the_length_of_list<=1:\n",
    "        print(\"Entered length is less than 1, so cannot find the second largest, please enter a valid length.\")\n",
    "    else:\n",
    "        for i in range(enter_the_length_of_list):\n",
    "            element = int(input(f\"Please enter the {i}th element of list.\"))\n",
    "            list.append(element)\n",
    "        print(f\"The given list is {list} and second largest number of given list is {second_largest(list)}.\")\n",
    "except:\n",
    "    print('There is some issue, please try again.')"
   ]
  },
  {
   "cell_type": "markdown",
   "id": "fc779a71",
   "metadata": {},
   "source": [
    "## 9.Write a Python program to find the longest common subsequence between two strings using dynamic programming.\n"
   ]
  },
  {
   "cell_type": "code",
   "execution_count": 2,
   "id": "08bd77aa",
   "metadata": {},
   "outputs": [
    {
     "name": "stdout",
     "output_type": "stream",
     "text": [
      "Enter first string: sapna\n",
      "Enter second string: sapnakumari\n",
      "Longest Common Subsequence: sapna"
     ]
    }
   ],
   "source": [
    "def lcs(string1, string2):\n",
    "    generate_array = [[-1]*(len(string2) + 1) for _ in range(len(string1) + 1)]\n",
    " \n",
    "    for i in range(len(string1) + 1):\n",
    "        generate_array[i][len(string2)] = 0\n",
    "    for j in range(len(string2)):\n",
    "        generate_array[len(string1)][j] = 0\n",
    " \n",
    "    for i in range(len(string1) - 1, -1, -1):\n",
    "        for j in range(len(string2) - 1, -1, -1):\n",
    "            if string1[i] == string2[j]:\n",
    "                generate_array[i][j] = 1 + generate_array[i + 1][j + 1]\n",
    "            else:\n",
    "                generate_array[i][j] = max(generate_array[i + 1][j], generate_array[i][j + 1])\n",
    " \n",
    "    return generate_array\n",
    "\n",
    "\n",
    "def find_lcs(string1, string2, generate_array):\n",
    "    i = j = 0\n",
    "    while not (i == len(string1) or j == len(string2)):\n",
    "        if string1[i] == string2[j]:\n",
    "            print(string1[i], end='')\n",
    "            i += 1\n",
    "            j += 1\n",
    "        elif generate_array[i][j + 1] > generate_array[i + 1][j]:\n",
    "            j += 1\n",
    "        else:\n",
    "            i += 1\n",
    " \n",
    " \n",
    "string1 = input('Enter first string: ')\n",
    "string2 = input('Enter second string: ')\n",
    "generate_array = lcs(string1 , string2)\n",
    "print('Longest Common Subsequence: ', end='')\n",
    "find_lcs(string1,string2, generate_array)"
   ]
  },
  {
   "cell_type": "code",
   "execution_count": null,
   "id": "cad15c97",
   "metadata": {},
   "outputs": [],
   "source": []
  },
  {
   "cell_type": "code",
   "execution_count": null,
   "id": "bfaa622d",
   "metadata": {},
   "outputs": [],
   "source": []
  }
 ],
 "metadata": {
  "kernelspec": {
   "display_name": "Python 3 (ipykernel)",
   "language": "python",
   "name": "python3"
  },
  "language_info": {
   "codemirror_mode": {
    "name": "ipython",
    "version": 3
   },
   "file_extension": ".py",
   "mimetype": "text/x-python",
   "name": "python",
   "nbconvert_exporter": "python",
   "pygments_lexer": "ipython3",
   "version": "3.10.9"
  }
 },
 "nbformat": 4,
 "nbformat_minor": 5
}
