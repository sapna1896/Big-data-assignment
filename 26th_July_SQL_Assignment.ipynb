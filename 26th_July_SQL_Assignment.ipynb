{
 "cells": [
  {
   "cell_type": "markdown",
   "id": "878be605",
   "metadata": {},
   "source": [
    "### SQL ASSIGNMENT QUESTIONS"
   ]
  },
  {
   "cell_type": "markdown",
   "id": "d68814d7",
   "metadata": {},
   "source": [
    "### 1. Write an SQL query to retrieve the names and email addresses of all employees from a table named \"Employees\".\n"
   ]
  },
  {
   "cell_type": "code",
   "execution_count": null,
   "id": "7c4dafc8",
   "metadata": {},
   "outputs": [],
   "source": [
    "SELECT name, email FROM Employees;"
   ]
  },
  {
   "cell_type": "markdown",
   "id": "988c1911",
   "metadata": {},
   "source": [
    "### 2. Write an SQL query to filter records from a table named \"Customers\" where the \"City\" column is 'New York'."
   ]
  },
  {
   "cell_type": "code",
   "execution_count": null,
   "id": "869fd499",
   "metadata": {},
   "outputs": [],
   "source": [
    "SELECT *\n",
    "FROM Customers\n",
    "WHERE City = 'New York';"
   ]
  },
  {
   "cell_type": "markdown",
   "id": "afbfbb80",
   "metadata": {},
   "source": [
    "### 3. Write an SQL query to sort records in descending order based on the \"DateOfBirth\" column in a table named \"Users\"."
   ]
  },
  {
   "cell_type": "code",
   "execution_count": null,
   "id": "8f6ef7e7",
   "metadata": {},
   "outputs": [],
   "source": [
    "SELECT *\n",
    "FROM Users\n",
    "ORDER BY DateOfBirth DESC;"
   ]
  },
  {
   "cell_type": "markdown",
   "id": "c4affac2",
   "metadata": {},
   "source": [
    "###  Write an SQL query to sort records in ascending order based on the \"RegistrationDate\" column in a table named \"Users\"."
   ]
  },
  {
   "cell_type": "code",
   "execution_count": null,
   "id": "431df0ce",
   "metadata": {},
   "outputs": [],
   "source": [
    "SELECT *\n",
    "FROM Users\n",
    "ORDER BY RegistrationDate ASC;"
   ]
  },
  {
   "cell_type": "markdown",
   "id": "ac5e595b",
   "metadata": {},
   "source": [
    "### 5. Write an SQL query to find the employee with the highest salary from a table named \"Employees\" and display their name, position, and salary."
   ]
  },
  {
   "cell_type": "code",
   "execution_count": null,
   "id": "a45b82b0",
   "metadata": {},
   "outputs": [],
   "source": [
    "SELECT name, position, salary\n",
    "FROM Employees\n",
    "ORDER BY salary DESC\n",
    "LIMIT 1;"
   ]
  },
  {
   "cell_type": "markdown",
   "id": "f8a73965",
   "metadata": {},
   "source": [
    "### 6. Write an SQL query to retrieve records from a table named \"Customers\" where the \"Phone\" column matches the pattern '+1-XXX-XXX-XXXX'."
   ]
  },
  {
   "cell_type": "code",
   "execution_count": null,
   "id": "5bd8a57e",
   "metadata": {},
   "outputs": [],
   "source": [
    "SELECT *\n",
    "FROM Customers\n",
    "WHERE Phone LIKE '+1-XXX-XXX-XXXX';"
   ]
  },
  {
   "cell_type": "markdown",
   "id": "e2fe978d",
   "metadata": {},
   "source": [
    "### 7. Write an SQL query to retrieve the top 5 customers with the highest total purchase amount from a table named \"Orders\" and display their names and total purchase amounts."
   ]
  },
  {
   "cell_type": "code",
   "execution_count": null,
   "id": "1da55e9b",
   "metadata": {},
   "outputs": [],
   "source": [
    "SELECT customer_name, SUM(purchase_amount) AS total_purchase_amount\n",
    "FROM Orders\n",
    "GROUP BY customer_name\n",
    "ORDER BY total_purchase_amount DESC\n",
    "LIMIT 5;"
   ]
  },
  {
   "cell_type": "markdown",
   "id": "12e26fc5",
   "metadata": {},
   "source": [
    "### 8. Write an SQL query to calculate the percentage of sales for each product category in a table named \"Sales\" and display the category name, total sales amount, and the percentage of total sales."
   ]
  },
  {
   "cell_type": "code",
   "execution_count": null,
   "id": "04bd6b46",
   "metadata": {},
   "outputs": [],
   "source": [
    "SELECT category_name,\n",
    "       SUM(sales_amount) AS total_sales_amount,\n",
    "       (SUM(sales_amount) / (SELECT SUM(sales_amount) FROM Sales)) * 100 AS percentage_of_total_sales\n",
    "FROM Sales\n",
    "GROUP BY category_name;"
   ]
  },
  {
   "cell_type": "markdown",
   "id": "1725a12e",
   "metadata": {},
   "source": [
    "### 9. Write an SQL query to find the customers who have made the highest total purchases across all years from a table named \"Orders\" and display their names, email addresses, and the total purchase amount."
   ]
  },
  {
   "cell_type": "code",
   "execution_count": 2,
   "id": "3b27712f",
   "metadata": {},
   "outputs": [],
   "source": [
    "SELECT customer_name, email, SUM(purchase_amount) AS total_purchase_amount\n",
    "FROM Orders\n",
    "GROUP BY customer_name, email\n",
    "ORDER BY total_purchase_amount DESC\n",
    "LIMIT 1;"
   ]
  },
  {
   "cell_type": "code",
   "execution_count": null,
   "id": "5ecce001",
   "metadata": {},
   "outputs": [],
   "source": []
  }
 ],
 "metadata": {
  "kernelspec": {
   "display_name": "Python 3 (ipykernel)",
   "language": "python",
   "name": "python3"
  },
  "language_info": {
   "codemirror_mode": {
    "name": "ipython",
    "version": 3
   },
   "file_extension": ".py",
   "mimetype": "text/x-python",
   "name": "python",
   "nbconvert_exporter": "python",
   "pygments_lexer": "ipython3",
   "version": "3.9.13"
  }
 },
 "nbformat": 4,
 "nbformat_minor": 5
}
